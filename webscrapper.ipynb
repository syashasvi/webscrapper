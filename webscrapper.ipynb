{
 "cells": [
  {
   "cell_type": "code",
   "execution_count": 2,
   "metadata": {},
   "outputs": [],
   "source": [
    "from bs4 import BeautifulSoup\n",
    "from requests_html import HTMLSession\n",
    "session = HTMLSession()\n",
    "\n",
    "def get_all_forms(url):\n",
    "    \n",
    "    res = session.get(url)\n",
    "    \n",
    "    soup = BeautifulSoup(res.html.html, \"html.parser\")\n",
    "    return soup.find_all(\"form\")\n",
    "\n",
    "def get_form_details(form):\n",
    "    \"\"\"Returns the HTML details of a form,\n",
    "    including action, method and list of form controls (inputs, etc)\"\"\"\n",
    "    details = {}\n",
    "    # get the form action (requested URL)\n",
    "    action = form.attrs.get(\"action\").lower()\n",
    "    # get the form method (POST, GET, DELETE, etc)\n",
    "    # if not specified, GET is the default in HTML\n",
    "    method = form.attrs.get(\"method\", \"get\").lower()\n",
    "    # get all form inputs\n",
    "    inputs = []\n",
    "    for input_tag in form.find_all(\"input\"):\n",
    "        # get type of input form control\n",
    "        input_type = input_tag.attrs.get(\"type\", \"text\")\n",
    "        # get name attribute\n",
    "        input_name = input_tag.attrs.get(\"name\")\n",
    "        # get the default value of that input tag\n",
    "        input_value =input_tag.attrs.get(\"value\", \"\")\n",
    "        # add everything to that list\n",
    "        inputs.append({\"type\": input_type, \"name\": input_name, \"value\": input_value})\n",
    "    # put everything to the resulting dictionary\n",
    "    details[\"action\"] = action\n",
    "    details[\"method\"] = method\n",
    "    details[\"inputs\"] = inputs\n",
    "    return details\n"
   ]
  },
  {
   "cell_type": "code",
   "execution_count": 3,
   "metadata": {},
   "outputs": [
    {
     "name": "stdout",
     "output_type": "stream",
     "text": [
      "{'action': '/rcdlstatus/vahan/rcdlhome.xhtml;jsessionid=6bbba68e7ba8c2fe4ae66fa85479037f',\n",
      " 'inputs': [{'name': 'form_rcdl', 'type': 'hidden', 'value': 'form_rcdl'},\n",
      "            {'name': 'form_rcdl:tf_dlNO', 'type': 'text', 'value': ''},\n",
      "            {'name': 'form_rcdl:tf_dob_input', 'type': 'text', 'value': ''},\n",
      "            {'name': 'form_rcdl:j_idt34:CaptchaID',\n",
      "             'type': 'text',\n",
      "             'value': ''},\n",
      "            {'name': 'javax.faces.ViewState',\n",
      "             'type': 'hidden',\n",
      "             'value': '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'}],\n",
      " 'method': 'post'}\n",
      "Enter the value of the field 'form_rcdl:tf_dlNO' (type: text): 123\n",
      "Enter the value of the field 'form_rcdl:tf_dob_input' (type: text): 123\n",
      "Enter the value of the field 'form_rcdl:j_idt34:CaptchaID' (type: text): 1231\n"
     ]
    },
    {
     "data": {
      "text/plain": [
       "True"
      ]
     },
     "execution_count": 3,
     "metadata": {},
     "output_type": "execute_result"
    }
   ],
   "source": [
    "from bs4 import BeautifulSoup\n",
    "from requests_html import HTMLSession\n",
    "from pprint import pprint\n",
    "from urllib.parse import urljoin\n",
    "import webbrowser\n",
    "#from form_extractor import get_all_forms, get_form_details, session\n",
    "\n",
    "url = \"https://parivahan.gov.in/rcdlstatus/?pur_cd=101\"\n",
    "# get the first form\n",
    "first_form = get_all_forms(url)[0]\n",
    "# extract all form details\n",
    "form_details = get_form_details(first_form)\n",
    "pprint(form_details)\n",
    "# the data body we want to submit\n",
    "data = {}\n",
    "for input_tag in form_details[\"inputs\"]:\n",
    "    if input_tag[\"type\"] == \"hidden\":\n",
    "        # if it's hidden, use the default value\n",
    "        data[input_tag[\"name\"]] = input_tag[\"value\"]\n",
    "    elif input_tag[\"type\"] != \"submit\":\n",
    "        # all others except submit, prompt the user to set it\n",
    "        value = input(f\"Enter the value of the field '{input_tag['name']}' (type: {input_tag['type']}): \")\n",
    "        data[input_tag[\"name\"]] = value\n",
    "\n",
    "# join the url with the action (form request URL)\n",
    "url = urljoin(url, form_details[\"action\"])\n",
    "\n",
    "if form_details[\"method\"] == \"post\":\n",
    "    res = session.post(url, data=data)\n",
    "elif form_details[\"method\"] == \"get\":\n",
    "    res = session.get(url, params=data)\n",
    "\n",
    "# the below code is only for replacing relative URLs to absolute ones\n",
    "soup = BeautifulSoup(res.content, \"html.parser\")\n",
    "for link in soup.find_all(\"link\"):\n",
    "    try:\n",
    "        link.attrs[\"href\"] = urljoin(url, link.attrs[\"href\"])\n",
    "    except:\n",
    "        pass\n",
    "for script in soup.find_all(\"script\"):\n",
    "    try:\n",
    "        script.attrs[\"src\"] = urljoin(url, script.attrs[\"src\"])\n",
    "    except:\n",
    "        pass\n",
    "for img in soup.find_all(\"img\"):\n",
    "    try:\n",
    "        img.attrs[\"src\"] = urljoin(url, img.attrs[\"src\"])\n",
    "    except:\n",
    "        pass\n",
    "for a in soup.find_all(\"a\"):\n",
    "    try:\n",
    "        a.attrs[\"href\"] = urljoin(url, a.attrs[\"href\"])\n",
    "    except:\n",
    "        pass\n",
    "\n",
    "# write the page content to a file\n",
    "open(\"page.html\", \"w\").write(str(soup))\n",
    "# open the page on the default browser\n",
    "webbrowser.open(\"page.html\")    "
   ]
  },
  {
   "cell_type": "code",
   "execution_count": null,
   "metadata": {},
   "outputs": [],
   "source": []
  }
 ],
 "metadata": {
  "kernelspec": {
   "display_name": "Python 3",
   "language": "python",
   "name": "python3"
  },
  "language_info": {
   "codemirror_mode": {
    "name": "ipython",
    "version": 3
   },
   "file_extension": ".py",
   "mimetype": "text/x-python",
   "name": "python",
   "nbconvert_exporter": "python",
   "pygments_lexer": "ipython3",
   "version": "3.7.4"
  }
 },
 "nbformat": 4,
 "nbformat_minor": 2
}
